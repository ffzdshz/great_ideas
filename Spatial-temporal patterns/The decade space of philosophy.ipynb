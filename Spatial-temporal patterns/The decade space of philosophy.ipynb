{
 "cells": [
  {
   "cell_type": "code",
   "execution_count": 1,
   "metadata": {},
   "outputs": [],
   "source": [
    "import pandas as pd\n",
    "import numpy as np\n",
    "import seaborn as sns\n",
    "import matplotlib.pyplot as plt\n",
    "import networkx as nx\n",
    "from networkx.algorithms import bipartite\n",
    "from matplotlib.ticker import AutoMinorLocator\n",
    "from matplotlib.ticker import MultipleLocator"
   ]
  },
  {
   "cell_type": "code",
   "execution_count": 2,
   "metadata": {},
   "outputs": [],
   "source": [
    "book = pd.read_excel('your path\\\\booklist_1.0.xlsx', header = 0)\n",
    "book['decade'] = 10*(book['时间']//10)\n",
    "book1 = book[book.学科=='哲学']\n",
    "book2 = book1[['出版地', 'decade']].copy()\n",
    "book3 = book2.groupby('出版地')['decade'].value_counts().rename('weight').reset_index()\n",
    "B = nx.Graph()\n",
    "B.add_nodes_from(book3['出版地'].to_numpy(), bipartite=0)\n",
    "B.add_nodes_from(book3['decade'].to_numpy(), bipartite=1)\n",
    "B.add_weighted_edges_from(book3.to_numpy())\n",
    "city_nodes = {n for n, d in B.nodes(data=True) if d['bipartite'] == 0}\n",
    "year_nodes = set(B) - city_nodes\n",
    "degcity, degyear = bipartite.degrees(B, year_nodes, weight='weight')\n",
    "degcity1 = pd.DataFrame(pd.DataFrame(degcity)[1].value_counts())\n",
    "degyear1 = pd.DataFrame(pd.DataFrame(degyear)[1].value_counts())\n",
    "degcity1['频率'] = degcity1[1]/degcity1[1].sum()\n",
    "degyear1['频率'] = degyear1[1]/degyear1[1].sum()\n",
    "degcity1.sort_index(inplace=True)\n",
    "degyear1.sort_index(inplace=True)"
   ]
  },
  {
   "cell_type": "code",
   "execution_count": 3,
   "metadata": {},
   "outputs": [],
   "source": [
    "#给城市编号\n",
    "city_nodes1 = list(city_nodes)\n",
    "city_nodes1.sort()\n",
    "citylist = np.array(city_nodes1)\n",
    "citynum = list(np.arange(len(city_nodes)))\n",
    "city_dict = dict(zip(citynum,city_nodes1))\n",
    "#给时间编号\n",
    "year_nodes1 = list(year_nodes)\n",
    "year_nodes1.sort()\n",
    "yearlist = np.array(year_nodes1)\n",
    "yearnum = list(np.arange(len(year_nodes)))\n",
    "year_dict = dict(zip(yearnum,year_nodes1))\n",
    "RCA = np.zeros((len(city_nodes),len(year_nodes)))\n",
    "for i in range(len(year_nodes)):\n",
    "    goodsum = book3['weight'].sum()\n",
    "    book4 = book3[book3.decade==yearlist[i]]\n",
    "    goodsum_ = book4['weight'].sum()\n",
    "    rca1 = goodsum_/goodsum\n",
    "    for j in range(len(city_nodes)):\n",
    "        book5 = book3[book3.出版地==citylist[j]]\n",
    "        citygoodsum = book5['weight'].sum()\n",
    "        book6 = book5[book5.decade==yearlist[i]]\n",
    "        citygoodsum_ = book6['weight'].sum()\n",
    "        rca2 = citygoodsum_/citygoodsum\n",
    "        RCA[j, i] = rca2/rca1"
   ]
  },
  {
   "cell_type": "code",
   "execution_count": 4,
   "metadata": {},
   "outputs": [],
   "source": [
    "RCA_ = RCA\n",
    "RCA_[RCA_ > 1] = 1\n",
    "RCA_[RCA_ < 1] = 0\n",
    "proximity = np.zeros((len(year_nodes),len(year_nodes)))\n",
    "for i in range(len(year_nodes)):\n",
    "    for j in range(len(year_nodes)):\n",
    "        if i==j:\n",
    "            proximity[i,j] = 0\n",
    "        else:\n",
    "            p1 = RCA_[:,[i,j]][RCA_[:,j]==1][:,0].sum()\n",
    "            p2 = RCA_[:,[i,j]][RCA_[:,j]==1][:,1].sum()\n",
    "            proximity1 = p1/p2\n",
    "            p3 = RCA_[:,[i,j]][RCA_[:,i]==1][:,1].sum()\n",
    "            p4 = RCA_[:,[i,j]][RCA_[:,i]==1][:,0].sum()\n",
    "            proximity2 = p3/p4\n",
    "            proximity[i,j] = min(proximity1,proximity2)"
   ]
  },
  {
   "cell_type": "code",
   "execution_count": 5,
   "metadata": {},
   "outputs": [],
   "source": [
    "G = nx.from_numpy_matrix(proximity)\n",
    "G_edges = nx.to_pandas_edgelist(G)\n",
    "G_edges['source'].replace(year_dict, inplace=True)\n",
    "G_edges['target'].replace(year_dict, inplace=True)\n",
    "G = nx.from_pandas_edgelist(G_edges)\n",
    "G.add_weighted_edges_from(G_edges.to_numpy())"
   ]
  },
  {
   "cell_type": "code",
   "execution_count": 6,
   "metadata": {},
   "outputs": [],
   "source": [
    "T1 = nx.maximum_spanning_tree(G)\n",
    "nx.set_node_attributes(T1, dict(degyear), 'dergee')\n",
    "T1_edges = nx.to_pandas_edgelist(T1)"
   ]
  },
  {
   "cell_type": "code",
   "execution_count": 7,
   "metadata": {},
   "outputs": [],
   "source": [
    "nx.write_gexf(T1, 'your path\\\\product_space_tree_phil.gexf')"
   ]
  },
  {
   "cell_type": "code",
   "execution_count": 8,
   "metadata": {},
   "outputs": [],
   "source": [
    "from itertools import chain"
   ]
  },
  {
   "cell_type": "code",
   "execution_count": 9,
   "metadata": {},
   "outputs": [],
   "source": [
    "proximityarray = list(chain.from_iterable(proximity))"
   ]
  },
  {
   "cell_type": "code",
   "execution_count": 10,
   "metadata": {},
   "outputs": [],
   "source": [
    "proximityarray = list(filter(None, proximityarray))"
   ]
  },
  {
   "cell_type": "code",
   "execution_count": 11,
   "metadata": {},
   "outputs": [],
   "source": [
    "proximityquantile = np.quantile(proximityarray, 0.75)"
   ]
  },
  {
   "cell_type": "code",
   "execution_count": 12,
   "metadata": {},
   "outputs": [],
   "source": [
    "proximity_ = proximity.copy()\n",
    "proximity_[proximity_ < proximityquantile] = 0\n",
    "T2 = nx.from_numpy_matrix(proximity_)\n",
    "T2_edges = nx.to_pandas_edgelist(T2)\n",
    "T2_edges['source'].replace(year_dict, inplace=True)\n",
    "T2_edges['target'].replace(year_dict, inplace=True)"
   ]
  },
  {
   "cell_type": "code",
   "execution_count": 13,
   "metadata": {},
   "outputs": [],
   "source": [
    "T_edges = pd.concat([T1_edges, T2_edges])\n",
    "T_edges = T_edges.drop_duplicates()\n",
    "T_edges.index = np.arange(len(T_edges.index))\n",
    "T = nx.from_pandas_edgelist(T_edges)\n",
    "T.add_weighted_edges_from(T_edges.to_numpy())\n",
    "nx.set_node_attributes(T, dict(degyear), 'dergee')"
   ]
  },
  {
   "cell_type": "code",
   "execution_count": 14,
   "metadata": {
    "scrolled": true
   },
   "outputs": [],
   "source": [
    "betweenness_centrality_math = pd.DataFrame.from_dict(nx.betweenness_centrality(T, weight='weight'), orient='index')\n",
    "betweenness_centrality_math.sort_index(inplace=True)"
   ]
  },
  {
   "cell_type": "code",
   "execution_count": 15,
   "metadata": {
    "scrolled": true
   },
   "outputs": [
    {
     "data": {
      "text/html": [
       "<div>\n",
       "<style scoped>\n",
       "    .dataframe tbody tr th:only-of-type {\n",
       "        vertical-align: middle;\n",
       "    }\n",
       "\n",
       "    .dataframe tbody tr th {\n",
       "        vertical-align: top;\n",
       "    }\n",
       "\n",
       "    .dataframe thead th {\n",
       "        text-align: right;\n",
       "    }\n",
       "</style>\n",
       "<table border=\"1\" class=\"dataframe\">\n",
       "  <thead>\n",
       "    <tr style=\"text-align: right;\">\n",
       "      <th></th>\n",
       "      <th>0</th>\n",
       "    </tr>\n",
       "  </thead>\n",
       "  <tbody>\n",
       "    <tr>\n",
       "      <th>1680</th>\n",
       "      <td>0.002374</td>\n",
       "    </tr>\n",
       "    <tr>\n",
       "      <th>1690</th>\n",
       "      <td>0.023219</td>\n",
       "    </tr>\n",
       "    <tr>\n",
       "      <th>1700</th>\n",
       "      <td>0.003894</td>\n",
       "    </tr>\n",
       "    <tr>\n",
       "      <th>1710</th>\n",
       "      <td>0.037349</td>\n",
       "    </tr>\n",
       "    <tr>\n",
       "      <th>1720</th>\n",
       "      <td>0.008642</td>\n",
       "    </tr>\n",
       "    <tr>\n",
       "      <th>1730</th>\n",
       "      <td>0.041406</td>\n",
       "    </tr>\n",
       "    <tr>\n",
       "      <th>1740</th>\n",
       "      <td>0.000000</td>\n",
       "    </tr>\n",
       "    <tr>\n",
       "      <th>1750</th>\n",
       "      <td>0.000000</td>\n",
       "    </tr>\n",
       "    <tr>\n",
       "      <th>1760</th>\n",
       "      <td>0.005413</td>\n",
       "    </tr>\n",
       "    <tr>\n",
       "      <th>1770</th>\n",
       "      <td>0.060684</td>\n",
       "    </tr>\n",
       "    <tr>\n",
       "      <th>1780</th>\n",
       "      <td>0.028694</td>\n",
       "    </tr>\n",
       "    <tr>\n",
       "      <th>1790</th>\n",
       "      <td>0.097680</td>\n",
       "    </tr>\n",
       "    <tr>\n",
       "      <th>1800</th>\n",
       "      <td>0.000000</td>\n",
       "    </tr>\n",
       "    <tr>\n",
       "      <th>1810</th>\n",
       "      <td>0.000000</td>\n",
       "    </tr>\n",
       "    <tr>\n",
       "      <th>1820</th>\n",
       "      <td>0.011396</td>\n",
       "    </tr>\n",
       "    <tr>\n",
       "      <th>1830</th>\n",
       "      <td>0.024861</td>\n",
       "    </tr>\n",
       "    <tr>\n",
       "      <th>1840</th>\n",
       "      <td>0.073599</td>\n",
       "    </tr>\n",
       "    <tr>\n",
       "      <th>1850</th>\n",
       "      <td>0.141765</td>\n",
       "    </tr>\n",
       "    <tr>\n",
       "      <th>1860</th>\n",
       "      <td>0.034670</td>\n",
       "    </tr>\n",
       "    <tr>\n",
       "      <th>1870</th>\n",
       "      <td>0.463377</td>\n",
       "    </tr>\n",
       "    <tr>\n",
       "      <th>1880</th>\n",
       "      <td>0.000000</td>\n",
       "    </tr>\n",
       "    <tr>\n",
       "      <th>1890</th>\n",
       "      <td>0.000000</td>\n",
       "    </tr>\n",
       "    <tr>\n",
       "      <th>1900</th>\n",
       "      <td>0.148148</td>\n",
       "    </tr>\n",
       "    <tr>\n",
       "      <th>1910</th>\n",
       "      <td>0.216524</td>\n",
       "    </tr>\n",
       "    <tr>\n",
       "      <th>1920</th>\n",
       "      <td>0.116809</td>\n",
       "    </tr>\n",
       "    <tr>\n",
       "      <th>1930</th>\n",
       "      <td>0.000000</td>\n",
       "    </tr>\n",
       "    <tr>\n",
       "      <th>1940</th>\n",
       "      <td>0.074074</td>\n",
       "    </tr>\n",
       "    <tr>\n",
       "      <th>1950</th>\n",
       "      <td>0.000000</td>\n",
       "    </tr>\n",
       "  </tbody>\n",
       "</table>\n",
       "</div>"
      ],
      "text/plain": [
       "             0\n",
       "1680  0.002374\n",
       "1690  0.023219\n",
       "1700  0.003894\n",
       "1710  0.037349\n",
       "1720  0.008642\n",
       "1730  0.041406\n",
       "1740  0.000000\n",
       "1750  0.000000\n",
       "1760  0.005413\n",
       "1770  0.060684\n",
       "1780  0.028694\n",
       "1790  0.097680\n",
       "1800  0.000000\n",
       "1810  0.000000\n",
       "1820  0.011396\n",
       "1830  0.024861\n",
       "1840  0.073599\n",
       "1850  0.141765\n",
       "1860  0.034670\n",
       "1870  0.463377\n",
       "1880  0.000000\n",
       "1890  0.000000\n",
       "1900  0.148148\n",
       "1910  0.216524\n",
       "1920  0.116809\n",
       "1930  0.000000\n",
       "1940  0.074074\n",
       "1950  0.000000"
      ]
     },
     "execution_count": 15,
     "metadata": {},
     "output_type": "execute_result"
    }
   ],
   "source": [
    "betweenness_centrality_math"
   ]
  },
  {
   "cell_type": "code",
   "execution_count": 16,
   "metadata": {},
   "outputs": [],
   "source": [
    "nx.write_gexf(T, 'your path\\\\product_space_phil_plus_quantile.gexf')"
   ]
  },
  {
   "cell_type": "code",
   "execution_count": 17,
   "metadata": {},
   "outputs": [
    {
     "name": "stderr",
     "output_type": "stream",
     "text": [
      "<ipython-input-17-57ad338efcae>:7: DeprecationWarning: The truth value of an empty array is ambiguous. Returning False, but in future this will result in an error. Use `array.size > 0` to check that an array is not empty.\n",
      "  US_x = [x for x in US_x if x != None]\n"
     ]
    }
   ],
   "source": [
    "citylist_country = pd.read_excel('your path\\\\citylist.xlsx', header = 0)\n",
    "citylist_country = citylist_country[citylist_country['country'] == 'United States']\n",
    "citylist_country.index = np.arange(len(citylist_country.index))\n",
    "US_x = []\n",
    "for i in range(28):\n",
    "    US_x.append(np.where(citylist == citylist_country['name'][i])[0])\n",
    "US_x = [x for x in US_x if x != None]\n",
    "US_list = []\n",
    "for i in range(len(US_x)):\n",
    "    US_list.append(US_x[i][0])\n",
    "RCA_US = RCA_[US_list,:]"
   ]
  },
  {
   "cell_type": "code",
   "execution_count": 18,
   "metadata": {},
   "outputs": [],
   "source": [
    "US_listname = []\n",
    "for i in range(len(US_list)):\n",
    "    US_listname.append(city_dict[US_list[i]])"
   ]
  },
  {
   "cell_type": "code",
   "execution_count": 19,
   "metadata": {},
   "outputs": [
    {
     "data": {
      "text/plain": [
       "['New York',\n",
       " 'Chicago',\n",
       " 'Boston',\n",
       " 'New Haven',\n",
       " 'Cambridge, USA',\n",
       " 'Berkeley',\n",
       " 'La Salle, IL, USA']"
      ]
     },
     "execution_count": 19,
     "metadata": {},
     "output_type": "execute_result"
    }
   ],
   "source": [
    "US_listname"
   ]
  }
 ],
 "metadata": {
  "kernelspec": {
   "display_name": "Python 3",
   "language": "python",
   "name": "python3"
  },
  "language_info": {
   "codemirror_mode": {
    "name": "ipython",
    "version": 3
   },
   "file_extension": ".py",
   "mimetype": "text/x-python",
   "name": "python",
   "nbconvert_exporter": "python",
   "pygments_lexer": "ipython3",
   "version": "3.8.1"
  }
 },
 "nbformat": 4,
 "nbformat_minor": 4
}
